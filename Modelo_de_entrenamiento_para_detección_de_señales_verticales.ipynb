{
  "cells": [
    {
      "cell_type": "markdown",
      "metadata": {
        "id": "view-in-github",
        "colab_type": "text"
      },
      "source": [
        "<a href=\"https://colab.research.google.com/github/EstebanRamirezJC/detecci-n-se-ales-de-tr-nsito-verticales/blob/main/Modelo_de_entrenamiento_para_detecci%C3%B3n_de_se%C3%B1ales_verticales.ipynb\" target=\"_parent\"><img src=\"https://colab.research.google.com/assets/colab-badge.svg\" alt=\"Open In Colab\"/></a>"
      ]
    },
    {
      "cell_type": "markdown",
      "source": [
        "**Modelo de entrenamiento para detección de señales verticales**"
      ],
      "metadata": {
        "id": "F5-h6ztH5aIg"
      }
    },
    {
      "cell_type": "markdown",
      "source": [
        "Importación de Librerías"
      ],
      "metadata": {
        "id": "Z41BrGfK5y_f"
      }
    },
    {
      "cell_type": "code",
      "execution_count": null,
      "metadata": {
        "id": "CjGtQNeCZi8S"
      },
      "outputs": [],
      "source": [
        "import numpy as np\n",
        "import pandas as pd\n",
        "import os\n",
        "import matplotlib.pyplot as plt\n",
        "from PIL import Image"
      ]
    },
    {
      "cell_type": "markdown",
      "source": [
        "Instalación de librerías para YOLO y procesamiento de datos"
      ],
      "metadata": {
        "id": "OMCpzcC16GdX"
      }
    },
    {
      "cell_type": "code",
      "execution_count": null,
      "metadata": {
        "collapsed": true,
        "id": "iESxJK7yZi8T"
      },
      "outputs": [],
      "source": [
        "!pip install split-folders pillow ultralytics\n",
        "!pip install roboflow"
      ]
    },
    {
      "cell_type": "markdown",
      "source": [
        "Codigo de importación del conjunto de dataset"
      ],
      "metadata": {
        "id": "H26r0RR16fo_"
      }
    },
    {
      "cell_type": "code",
      "execution_count": null,
      "metadata": {
        "id": "Mnd9nxlUZi8U"
      },
      "outputs": [],
      "source": [
        "from roboflow import Roboflow\n",
        "rf = Roboflow(api_key=\"qYipyvnCKi0WYlO8X8wx\")\n",
        "project = rf.workspace(\"seales-transito\").project(\"senales_de_transito_verticales_deteccion3\")\n",
        "version = project.version(14)\n",
        "dataset = version.download(\"yolov11\")"
      ]
    },
    {
      "cell_type": "markdown",
      "source": [
        "Comprobación de dataset descargado"
      ],
      "metadata": {
        "id": "C-CzUsMK7Fun"
      }
    },
    {
      "cell_type": "code",
      "execution_count": null,
      "metadata": {
        "id": "Eqz4C1qkSu1I"
      },
      "outputs": [],
      "source": [
        "# Especifica la ruta del archivo\n",
        "file_path = '************'\n",
        "\n",
        "# Verifica si el archivo existe\n",
        "if os.path.exists(file_path):\n",
        "    print(f\"The file at {file_path} exists.\")\n",
        "else:\n",
        "    print(f\"The file at {file_path} does not exist.\")"
      ]
    },
    {
      "cell_type": "markdown",
      "source": [
        "Verificación del directorio de trabajo"
      ],
      "metadata": {
        "id": "G6VOiA8G8CTP"
      }
    },
    {
      "cell_type": "code",
      "execution_count": null,
      "metadata": {
        "id": "3GmwwuA2Zi8V"
      },
      "outputs": [],
      "source": [
        "# Obtener el directorio de trabajo actual\n",
        "cwd = os.getcwd()\n",
        "print(f\"Current working directory: {cwd}\")\n",
        "\n",
        "# Listar todos los archivos y directorios en el directorio actual\n",
        "files = os.listdir(cwd)\n",
        "print(f\"Files and directories in '{cwd}': {files}\")\n"
      ]
    },
    {
      "cell_type": "markdown",
      "source": [
        "Importación y configuración de versión del modelo YOLO"
      ],
      "metadata": {
        "id": "mWVECCeA8v6G"
      }
    },
    {
      "cell_type": "code",
      "execution_count": null,
      "metadata": {
        "id": "VIk51K79Zi8W"
      },
      "outputs": [],
      "source": [
        "from ultralytics import YOLO\n",
        "model = YOLO(\"********\")\n",
        "model.info()"
      ]
    },
    {
      "cell_type": "markdown",
      "source": [
        "Actualizar ruta del dataset"
      ],
      "metadata": {
        "id": "pNkqkTCX9CMn"
      }
    },
    {
      "cell_type": "code",
      "execution_count": null,
      "metadata": {
        "id": "xqd6I8JThfhS"
      },
      "outputs": [],
      "source": [
        "from ultralytics import settings\n",
        "\n",
        "# Ver todas las configuraciones\n",
        "settings.update({'***********'})"
      ]
    },
    {
      "cell_type": "markdown",
      "source": [
        "Entrenamiento del modelo YOLO"
      ],
      "metadata": {
        "id": "Wfm4bubc9M0H"
      }
    },
    {
      "cell_type": "code",
      "execution_count": null,
      "metadata": {
        "colab": {
          "background_save": true
        },
        "id": "FHq5pS0_Zi8W"
      },
      "outputs": [],
      "source": [
        "# Entrenar el modelo\n",
        "model.train(\n",
        "    data='**************',\n",
        "    epochs=50,\n",
        "    imgsz=640,\n",
        "    batch=16,\n",
        "    name=\"*********\",\n",
        "    project=\"*********\"\n",
        ")"
      ]
    },
    {
      "cell_type": "markdown",
      "source": [
        "Cargar el modelo entrenado"
      ],
      "metadata": {
        "id": "LKN7rpVJ-ctB"
      }
    },
    {
      "cell_type": "code",
      "execution_count": null,
      "metadata": {
        "id": "ERWZFeoeZi8W"
      },
      "outputs": [],
      "source": [
        "\n",
        "# modelo_entrenado = YOLO(\"/content/yolov8n.pt\")\n",
        "modelo_entrenado = YOLO(\"********\")\n",
        "\n",
        "# Realizar inferencia en una imagen\n",
        "resultados = modelo_entrenado.predict(source=\"******\", save=True)\n",
        "\n",
        "# Acceder a los resultados\n",
        "for resultado in resultados:\n",
        "    print(f\"Predicciones para la imagen: {resultado.path}\")\n",
        "\n",
        "    for caja, conf, clase in zip(resultado.boxes.xyxy, resultado.boxes.conf, resultado.boxes.cls):\n",
        "        print(f\"Bounding Box: {caja} - Confianza: {conf} - Clase: {clase}\")"
      ]
    },
    {
      "cell_type": "markdown",
      "source": [
        "Cargar y mostrar la imagen con las predicciones"
      ],
      "metadata": {
        "id": "3Th95Sdp-e03"
      }
    },
    {
      "cell_type": "code",
      "execution_count": null,
      "metadata": {
        "id": "Pkyr_tYYQZ3r"
      },
      "outputs": [],
      "source": [
        "# Cargar y mostrar la imagen con las predicciones\n",
        "img = Image.open(\"********\")\n",
        "plt.imshow(img)\n",
        "plt.axis('off')  # Ocultar los ejes\n",
        "plt.show()"
      ]
    },
    {
      "cell_type": "markdown",
      "source": [
        "Exportar carpeta de proyecto"
      ],
      "metadata": {
        "id": "QNIyVcdc-nY4"
      }
    },
    {
      "cell_type": "code",
      "execution_count": null,
      "metadata": {
        "colab": {
          "base_uri": "https://localhost:8080/",
          "height": 34
        },
        "id": "q0UCpKNfMWJ5",
        "outputId": "3c36043a-d03c-41d0-fc8d-61384682cfba"
      },
      "outputs": [
        {
          "data": {
            "application/javascript": [
              "\n",
              "    async function download(id, filename, size) {\n",
              "      if (!google.colab.kernel.accessAllowed) {\n",
              "        return;\n",
              "      }\n",
              "      const div = document.createElement('div');\n",
              "      const label = document.createElement('label');\n",
              "      label.textContent = `Downloading \"${filename}\": `;\n",
              "      div.appendChild(label);\n",
              "      const progress = document.createElement('progress');\n",
              "      progress.max = size;\n",
              "      div.appendChild(progress);\n",
              "      document.body.appendChild(div);\n",
              "\n",
              "      const buffers = [];\n",
              "      let downloaded = 0;\n",
              "\n",
              "      const channel = await google.colab.kernel.comms.open(id);\n",
              "      // Send a message to notify the kernel that we're ready.\n",
              "      channel.send({})\n",
              "\n",
              "      for await (const message of channel.messages) {\n",
              "        // Send a message to notify the kernel that we're ready.\n",
              "        channel.send({})\n",
              "        if (message.buffers) {\n",
              "          for (const buffer of message.buffers) {\n",
              "            buffers.push(buffer);\n",
              "            downloaded += buffer.byteLength;\n",
              "            progress.value = downloaded;\n",
              "          }\n",
              "        }\n",
              "      }\n",
              "      const blob = new Blob(buffers, {type: 'application/binary'});\n",
              "      const a = document.createElement('a');\n",
              "      a.href = window.URL.createObjectURL(blob);\n",
              "      a.download = filename;\n",
              "      div.appendChild(a);\n",
              "      a.click();\n",
              "      div.remove();\n",
              "    }\n",
              "  "
            ],
            "text/plain": [
              "<IPython.core.display.Javascript object>"
            ]
          },
          "metadata": {},
          "output_type": "display_data"
        },
        {
          "data": {
            "application/javascript": [
              "download(\"download_592949d7-ab6a-409f-a8e6-605d3b737f6e\", \"se\\u00f1ales_934u.zip\", 19018245)"
            ],
            "text/plain": [
              "<IPython.core.display.Javascript object>"
            ]
          },
          "metadata": {},
          "output_type": "display_data"
        }
      ],
      "source": [
        "import shutil\n",
        "from google.colab import files\n",
        "\n",
        "# Especifica el nombre de la carpeta que deseas comprimir y descargar\n",
        "folder_path = \"***************\"  # Ruta de la carpeta en Colab\n",
        "output_filename = \"***********\"   # Nombre del archivo zip de salida\n",
        "\n",
        "# Comprimir la carpeta en un archivo ZIP\n",
        "shutil.make_archive(output_filename.replace('.zip', ''), 'zip', folder_path)\n",
        "\n",
        "# Descargar el archivo ZIP\n",
        "files.download(output_filename)\n"
      ]
    }
  ],
  "metadata": {
    "accelerator": "GPU",
    "colab": {
      "gpuType": "T4",
      "provenance": [],
      "include_colab_link": true
    },
    "kaggle": {
      "accelerator": "none",
      "dataSources": [],
      "dockerImageVersionId": 30786,
      "isGpuEnabled": false,
      "isInternetEnabled": true,
      "language": "python",
      "sourceType": "notebook"
    },
    "kernelspec": {
      "display_name": "Python 3",
      "name": "python3"
    },
    "language_info": {
      "codemirror_mode": {
        "name": "ipython",
        "version": 3
      },
      "file_extension": ".py",
      "mimetype": "text/x-python",
      "name": "python",
      "nbconvert_exporter": "python",
      "pygments_lexer": "ipython3",
      "version": "3.10.14"
    }
  },
  "nbformat": 4,
  "nbformat_minor": 0
}