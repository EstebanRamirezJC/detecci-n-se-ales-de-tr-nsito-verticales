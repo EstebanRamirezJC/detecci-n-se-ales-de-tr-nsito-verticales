{
  "cells": [
    {
      "cell_type": "markdown",
      "metadata": {
        "id": "view-in-github",
        "colab_type": "text"
      },
      "source": [
        "<a href=\"https://colab.research.google.com/github/Josuerc0213/detecci-n-se-ales-de-tr-nsito-verticales/blob/main/Deteccion_se%C3%B1ales_transito_verticales.ipynb\" target=\"_parent\"><img src=\"https://colab.research.google.com/assets/colab-badge.svg\" alt=\"Open In Colab\"/></a>"
      ]
    },
    {
      "cell_type": "code",
      "execution_count": null,
      "metadata": {
        "id": "CjGtQNeCZi8S"
      },
      "outputs": [],
      "source": [
        "import numpy as np # linear algebra\n",
        "import pandas as pd # data processing, CSV file I/O (e.g. pd.read_csv)\n",
        "import os\n",
        "import matplotlib.pyplot as plt\n",
        "from PIL import Image"
      ]
    },
    {
      "cell_type": "code",
      "execution_count": null,
      "metadata": {
        "collapsed": true,
        "id": "iESxJK7yZi8T"
      },
      "outputs": [],
      "source": [
        "!pip install split-folders pillow ultralytics\n",
        "!pip install roboflow"
      ]
    },
    {
      "cell_type": "code",
      "execution_count": null,
      "metadata": {
        "id": "Mnd9nxlUZi8U"
      },
      "outputs": [],
      "source": [
        "\n",
        "\n",
        "\n",
        "from roboflow import Roboflow\n",
        "rf = Roboflow(api_key=\"qYipyvnCKi0WYlO8X8wx\")\n",
        "project = rf.workspace(\"seales-transito\").project(\"senales_de_transito_verticales_deteccion-2-modi\")\n",
        "version = project.version(8)\n",
        "dataset = version.download(\"yolov11\")\n",
        "\n",
        "\n",
        "\n",
        "\n"
      ]
    },
    {
      "cell_type": "code",
      "source": [
        "# clases minoritarias\n",
        "minority_classes = [\"NO VIRAR EN U\",\"NO VIRAR IZQUIERDA O DERECHA\", \"CICLOVIA\", \"PEATONES EN LA VIA\", \"CEDA PASO\",  \"DOBLE VIA\" ]  # ✅ Múltiples clases\n",
        "n_copias = 5  # Número de veces que se duplicarán las imágenes\n",
        "\n",
        "# Duplicar imágenes y etiquetas\n",
        "import os, shutil\n",
        "\n",
        "\n",
        "images_dir = os.path.join(dataset.location, \"valid/images\")\n",
        "labels_dir = os.path.join(dataset.location, \"valid/labels\")\n",
        "\n",
        "for clase in minority_classes:\n",
        "    for i in range(n_copias):\n",
        "        for filename in os.listdir(images_dir):\n",
        "            if clase in filename:\n",
        "                src_img = os.path.join(images_dir, filename)\n",
        "                dst_img = os.path.join(images_dir, f\"copy{i}_{clase}_{filename}\")\n",
        "                shutil.copy(src_img, dst_img)\n",
        "\n",
        "\n",
        "                label_file = filename.replace(\".jpg\", \".txt\").replace(\".png\", \".txt\")\n",
        "                src_lbl = os.path.join(labels_dir, label_file)\n",
        "                dst_lbl = os.path.join(labels_dir, f\"copy{i}_{clase}_{label_file}\")\n",
        "                if os.path.exists(src_lbl):\n",
        "                    shutil.copy(src_lbl, dst_lbl)"
      ],
      "metadata": {
        "id": "880dS2FW6jNq"
      },
      "execution_count": null,
      "outputs": []
    },
    {
      "cell_type": "code",
      "execution_count": null,
      "metadata": {
        "id": "Eqz4C1qkSu1I"
      },
      "outputs": [],
      "source": [
        "# Specify the path to the file\n",
        "file_path = '/content/Señales_de_tránsito_verticales_detección-2-modi-8/data.yaml'\n",
        "\n",
        "# Check if the file exists\n",
        "if os.path.exists(file_path):\n",
        "    print(f\"The file at {file_path} exists.\")\n",
        "else:\n",
        "    print(f\"The file at {file_path} does not exist.\")"
      ]
    },
    {
      "cell_type": "code",
      "execution_count": null,
      "metadata": {
        "id": "3GmwwuA2Zi8V"
      },
      "outputs": [],
      "source": [
        "# Get the current working directory\n",
        "cwd = os.getcwd()\n",
        "print(f\"Current working directory: {cwd}\")\n",
        "\n",
        "# List all files and directories in the current directory\n",
        "files = os.listdir(cwd)\n",
        "print(f\"Files and directories in '{cwd}': {files}\")\n"
      ]
    },
    {
      "cell_type": "code",
      "source": [
        "dir_path = cwd + \"/sample_data\"\n",
        "for files in os.listdir(dir_path):\n",
        "  os.remove(dir_path + \"/\" + files)\n",
        "os.rmdir(dir_path)"
      ],
      "metadata": {
        "id": "LWVZtGdjBt1i"
      },
      "execution_count": null,
      "outputs": []
    },
    {
      "cell_type": "code",
      "execution_count": null,
      "metadata": {
        "id": "VIk51K79Zi8W"
      },
      "outputs": [],
      "source": [
        "from ultralytics import YOLO\n",
        "model = YOLO(\"yolo11n.pt\")\n",
        "model.info()"
      ]
    },
    {
      "cell_type": "code",
      "execution_count": null,
      "metadata": {
        "id": "xqd6I8JThfhS"
      },
      "outputs": [],
      "source": [
        "from ultralytics import settings\n",
        "\n",
        "# View all settings\n",
        "\n",
        "settings.update({'datasets_dir': '/content/Señales_de_tránsito_verticales_detección-2-modi-8'})"
      ]
    },
    {
      "cell_type": "code",
      "execution_count": null,
      "metadata": {
        "id": "FHq5pS0_Zi8W"
      },
      "outputs": [],
      "source": [
        "# os.chdir(\"/content\")\n",
        "# Entrenar el modelo\n",
        "model.train(\n",
        "    data='/content/Señales_de_tránsito_verticales_detección-2-modi-8/data.yaml',\n",
        "    epochs=50,\n",
        "    imgsz=640,\n",
        "    batch=16,  # Ajusta según tu GPU\n",
        "    name=\"entrenamiento_señales_de_transito\",\n",
        "    project=\"proyecto_señales_de_transito\"\n",
        ")"
      ]
    },
    {
      "cell_type": "code",
      "execution_count": null,
      "metadata": {
        "id": "ERWZFeoeZi8W"
      },
      "outputs": [],
      "source": [
        "# Cargar el modelo entrenado\n",
        "# modelo_entrenado = YOLO(\"/content/yolov8n.pt\")\n",
        "modelo_entrenado = YOLO(\"\")\n",
        "\n",
        "# Realizar inferencia en una imagen\n",
        "resultados = modelo_entrenado.predict(source=\"\", save=True)\n",
        "\n",
        "# Acceder a los resultados\n",
        "for resultado in resultados:\n",
        "    print(f\"Predicciones para la imagen: {resultado.path}\")\n",
        "\n",
        "    for caja, conf, clase in zip(resultado.boxes.xyxy, resultado.boxes.conf, resultado.boxes.cls):\n",
        "        print(f\"Bounding Box: {caja} - Confianza: {conf} - Clase: {clase}\")"
      ]
    },
    {
      "cell_type": "code",
      "execution_count": null,
      "metadata": {
        "id": "Pkyr_tYYQZ3r"
      },
      "outputs": [],
      "source": [
        "# Cargar y mostrar la imagen con las predicciones\n",
        "img = Image.open(\"\")\n",
        "plt.imshow(img)\n",
        "plt.axis('off')  # Ocultar los ejes\n",
        "plt.show()"
      ]
    },
    {
      "cell_type": "code",
      "execution_count": null,
      "metadata": {
        "id": "q0UCpKNfMWJ5"
      },
      "outputs": [],
      "source": [
        "import shutil\n",
        "from google.colab import files\n",
        "\n",
        "# Especifica el nombre de la carpeta que deseas comprimir y descargar\n",
        "folder_path = \"/content/proyecto_señales_de_transito/entrenamiento_señales_de_transito\"  # Ruta de la carpeta en Colab\n",
        "output_filename = \"señales_ctipo.zip\"   # Nombre del archivo zip de salida\n",
        "\n",
        "# Comprimir la carpeta en un archivo ZIP\n",
        "shutil.make_archive(output_filename.replace('.zip', ''), 'zip', folder_path)\n",
        "\n",
        "# Descargar el archivo ZIP\n",
        "files.download(output_filename)\n"
      ]
    }
  ],
  "metadata": {
    "accelerator": "GPU",
    "colab": {
      "gpuType": "T4",
      "provenance": [],
      "include_colab_link": true
    },
    "kaggle": {
      "accelerator": "none",
      "dataSources": [],
      "dockerImageVersionId": 30786,
      "isGpuEnabled": false,
      "isInternetEnabled": true,
      "language": "python",
      "sourceType": "notebook"
    },
    "kernelspec": {
      "display_name": "Python 3",
      "name": "python3"
    },
    "language_info": {
      "codemirror_mode": {
        "name": "ipython",
        "version": 3
      },
      "file_extension": ".py",
      "mimetype": "text/x-python",
      "name": "python",
      "nbconvert_exporter": "python",
      "pygments_lexer": "ipython3",
      "version": "3.10.14"
    }
  },
  "nbformat": 4,
  "nbformat_minor": 0
}